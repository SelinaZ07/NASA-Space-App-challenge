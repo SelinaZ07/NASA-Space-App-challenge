{
  "nbformat": 4,
  "nbformat_minor": 0,
  "metadata": {
    "colab": {
      "provenance": [],
      "include_colab_link": true
    },
    "kernelspec": {
      "name": "python3",
      "display_name": "Python 3"
    }
  },
  "cells": [
    {
      "cell_type": "markdown",
      "metadata": {
        "id": "view-in-github",
        "colab_type": "text"
      },
      "source": [
        "<a href=\"https://colab.research.google.com/github/SelinaZ07/NASA-Space-App-challenge/blob/main/Copy_of_2_Classes.ipynb\" target=\"_parent\"><img src=\"https://colab.research.google.com/assets/colab-badge.svg\" alt=\"Open In Colab\"/></a>"
      ]
    },
    {
      "cell_type": "code",
      "source": [
        "#Install the required packages\n",
        "!pip install sentence-transformers scikit-learn pandas numpy umap-learn matplotlib joblib openai\n",
        "!pip install torch torchvision torchaudio --index-url https://download.pytorch.org/whl/cpu\n",
        "!pip install sentence-transformers\n",
        "!pip install -U transformers==4.44.2\n",
        "!pip install -U sentence-transformers==2.7.0"
      ],
      "metadata": {
        "id": "_RMHSGoPiGt1"
      },
      "execution_count": null,
      "outputs": []
    }
  ]
}