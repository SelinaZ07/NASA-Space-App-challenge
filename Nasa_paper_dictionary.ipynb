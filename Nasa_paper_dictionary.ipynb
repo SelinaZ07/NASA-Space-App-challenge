{
  "nbformat": 4,
  "nbformat_minor": 0,
  "metadata": {
    "colab": {
      "provenance": [],
      "authorship_tag": "ABX9TyNx3bwyo0DzKlQI+SzpaNdg",
      "include_colab_link": true
    },
    "kernelspec": {
      "name": "python3",
      "display_name": "Python 3"
    },
    "language_info": {
      "name": "python"
    }
  },
  "cells": [
    {
      "cell_type": "markdown",
      "metadata": {
        "id": "view-in-github",
        "colab_type": "text"
      },
      "source": [
        "<a href=\"https://colab.research.google.com/github/SelinaZ07/NASA-Space-App-challenge/blob/main/Nasa_paper_disctionary.ipynb\" target=\"_parent\"><img src=\"https://colab.research.google.com/assets/colab-badge.svg\" alt=\"Open In Colab\"/></a>"
      ]
    },
    {
      "cell_type": "markdown",
      "source": [
        "Converting the research paper excel sheet to a js file format."
      ],
      "metadata": {
        "id": "Dw2dgUUcXz2q"
      }
    },
    {
      "cell_type": "code",
      "execution_count": null,
      "metadata": {
        "colab": {
          "base_uri": "https://localhost:8080/",
          "height": 610
        },
        "id": "XRUXmmHORlLq",
        "outputId": "34372ffc-c11d-4caf-fa29-cef553c2a303"
      },
      "outputs": [
        {
          "output_type": "display_data",
          "data": {
            "text/plain": [
              "<IPython.core.display.Javascript object>"
            ],
            "application/javascript": [
              "\n",
              "    async function download(id, filename, size) {\n",
              "      if (!google.colab.kernel.accessAllowed) {\n",
              "        return;\n",
              "      }\n",
              "      const div = document.createElement('div');\n",
              "      const label = document.createElement('label');\n",
              "      label.textContent = `Downloading \"${filename}\": `;\n",
              "      div.appendChild(label);\n",
              "      const progress = document.createElement('progress');\n",
              "      progress.max = size;\n",
              "      div.appendChild(progress);\n",
              "      document.body.appendChild(div);\n",
              "\n",
              "      const buffers = [];\n",
              "      let downloaded = 0;\n",
              "\n",
              "      const channel = await google.colab.kernel.comms.open(id);\n",
              "      // Send a message to notify the kernel that we're ready.\n",
              "      channel.send({})\n",
              "\n",
              "      for await (const message of channel.messages) {\n",
              "        // Send a message to notify the kernel that we're ready.\n",
              "        channel.send({})\n",
              "        if (message.buffers) {\n",
              "          for (const buffer of message.buffers) {\n",
              "            buffers.push(buffer);\n",
              "            downloaded += buffer.byteLength;\n",
              "            progress.value = downloaded;\n",
              "          }\n",
              "        }\n",
              "      }\n",
              "      const blob = new Blob(buffers, {type: 'application/binary'});\n",
              "      const a = document.createElement('a');\n",
              "      a.href = window.URL.createObjectURL(blob);\n",
              "      a.download = filename;\n",
              "      div.appendChild(a);\n",
              "      a.click();\n",
              "      div.remove();\n",
              "    }\n",
              "  "
            ]
          },
          "metadata": {}
        },
        {
          "output_type": "display_data",
          "data": {
            "text/plain": [
              "<IPython.core.display.Javascript object>"
            ],
            "application/javascript": [
              "download(\"download_0019dbdb-a9ea-4b09-8a35-7e5d4d9bc41a\", \"papers.js\", 172874)"
            ]
          },
          "metadata": {}
        },
        {
          "output_type": "stream",
          "name": "stdout",
          "text": [
            "const papers = [\n",
            "  {\n",
            "    title: \"Mice in Bion-M 1 space mission: training and selection\",\n",
            "    category: {\n",
            "      name: \"Neurobiology in Spaceflight\",\n",
            "      color: \"#4db6ac\"\n",
            "    },\n",
            "    summary: \"Summary placeholder\",\n",
            "    details: \"Details placeholder\"\n",
            "  },\n",
            "  {\n",
            "    title: \"Microgravity induces pelvic bone loss through osteoclastic activity, osteocytic osteolysis, and osteoblastic cell cycle inhibition by CDKN1a/p21\",\n",
            "    category: {\n",
            "      name: \"Microgravity & Stem Cells\",\n",
            "      color: \"#aed581\"\n",
            "    },\n",
            "    summary: \"Summary placeholder\",\n",
            "    details: \"Details placeholder\"\n",
            "  },\n",
            "  {\n",
            "    title: \"Stem Cell Health and Tissue Regeneration in Microgravity\",\n",
            "    category: {\n",
            "      name: \"Microgravity & Stem Cells\",\n",
            "      color: \"#aed581\"\n",
            "    },\n",
            "    summary: \"Summary placeholder\",\n",
            "    details: \"Details placeholder\"\n",
            "  },\n",
            "  {\n",
            "    title: \"Microgravity Reduces the Differentiation and Regenerative Potential of Embryonic Stem Cells\",\n",
            "    category: {\n",
            "      name: \"Microgravity & Stem Cells\",\n",
            "      color: \"\n"
          ]
        }
      ],
      "source": [
        "import pandas as pd\n",
        "import json\n",
        "import re\n",
        "\n",
        "# Load your file\n",
        "df = pd.read_csv(\"titles_with_categories.csv\")\n",
        "\n",
        "# Optionally, add placeholder summary/details columns if you don't have them\n",
        "df['summary'] = \"Summary placeholder\"\n",
        "df['details'] = \"Details placeholder\"\n",
        "\n",
        "# Map categories to colors (you can adjust the hex codes)\n",
        "category_colors = {\n",
        "    \"Skeletal & Musculoskeletal Biology\": \"#e57373\",   # red\n",
        "    \"Spaceflight Microbiome Dynamics\": \"#64b5f6\",      # blue\n",
        "    \"Plant Growth & Signaling\": \"#81c784\",             # green\n",
        "    \"Space Radiation Biology\": \"#ba68c8\",              # purple\n",
        "    \"Space Station Genomics\": \"#ffb74d\",               # orange\n",
        "    \"Neurobiology in Spaceflight\": \"#4db6ac\",          # teal\n",
        "    \"Cellular Stress Responses\": \"#f06292\",            # pink\n",
        "    \"C. elegans Model Systems\": \"#7986cb\",             # indigo\n",
        "    \"Microgravity & Stem Cells\": \"#aed581\",            # light green\n",
        "    \"Space Omics & Exploration\": \"#90a4ae\",            # gray\n",
        "}\n",
        "\n",
        "# Build JS objects\n",
        "papers_js = []\n",
        "for _, row in df.iterrows():\n",
        "    papers_js.append({\n",
        "        \"title\": row['Title'],\n",
        "        \"category\": {\n",
        "            \"name\": row['category'],\n",
        "            \"color\": category_colors.get(row['category'], \"#cccccc\")\n",
        "        },\n",
        "        \"summary\": row['summary'],\n",
        "        \"details\": row['details']\n",
        "    })\n",
        "\n",
        "# Convert to JSON (pretty-printed)\n",
        "js_code = json.dumps(papers_js, indent=2)\n",
        "\n",
        "# Remove quotes around keys (safe for your identifiers)\n",
        "js_code = re.sub(r'\"(\\w+)\":', r'\\1:', js_code)\n",
        "\n",
        "# Add `const papers =` declaration\n",
        "js_code = \"const papers = \" + js_code + \";\"\n",
        "\n",
        "# Save to file\n",
        "with open(\"papers.js\", \"w\") as f:\n",
        "    f.write(js_code)\n",
        "\n",
        "# Download to your computer\n",
        "from google.colab import files\n",
        "files.download(\"papers.js\")\n",
        "\n",
        "print(js_code[:1000])  # preview first part\n"
      ]
    },
    {
      "cell_type": "code",
      "source": [
        "import pandas as pd\n",
        "import json\n",
        "import re\n",
        "\n",
        "# Load CSV\n",
        "df = pd.read_csv(\"/content/SB_publication_PMC (version 1).csv\")\n",
        "\n",
        "# Normalize column names to lowercase (and strip spaces)\n",
        "df.columns = df.columns.str.strip().str.lower()\n",
        "\n",
        "# Map categories to colors\n",
        "category_colors = {\n",
        "    \"skeletal & musculoskeletal biology\": \"#e57373\",\n",
        "    \"spaceflight microbiome dynamics\": \"#64b5f6\",\n",
        "    \"plant growth & signaling\": \"#81c784\",\n",
        "    \"space radiation biology\": \"#ba68c8\",\n",
        "    \"space station genomics\": \"#ffb74d\",\n",
        "    \"neurobiology in spaceflight\": \"#4db6ac\",\n",
        "    \"cellular stress responses\": \"#f06292\",\n",
        "    \"c. elegans model systems\": \"#7986cb\",\n",
        "    \"microgravity & stem cells\": \"#aed581\",\n",
        "    \"space omics & exploration\": \"#90a4ae\",\n",
        "}\n",
        "\n",
        "# Helper to handle missing values safely\n",
        "def safe_get(value):\n",
        "    if pd.isna(value):\n",
        "        return \"\"\n",
        "    return str(value).strip()\n",
        "\n",
        "# Build JS objects\n",
        "papers_js = []\n",
        "for _, row in df.iterrows():\n",
        "    purpose = safe_get(row.get(\"purpose\"))\n",
        "    approach = safe_get(row.get(\"approach\"))\n",
        "    key_findings = safe_get(row.get(\"key findings\"))\n",
        "    impacts = safe_get(row.get(\"impacts\"))\n",
        "    research_gaps = safe_get(row.get(\"research gaps\"))\n",
        "    summary = safe_get(row.get(\"summary\"))\n",
        "    category = safe_get(row.get(\"category\"))\n",
        "    title = safe_get(row.get(\"title\"))\n",
        "\n",
        "    # Combine fields into formatted Markdown-style details\n",
        "    details = f\"\"\"\n",
        "📌 **Purpose of the Study**\n",
        "{purpose}\n",
        "\n",
        "🧪 **Approach**\n",
        "{approach}\n",
        "\n",
        "🐭 **Research Gaps / Next Steps**\n",
        "{research_gaps}\n",
        "\n",
        "🚀 **Key Findings**\n",
        "{key_findings}\n",
        "\n",
        "📊 **Scientific Impact**\n",
        "{impacts}\n",
        "\"\"\".strip()\n",
        "\n",
        "    papers_js.append({\n",
        "        \"title\": title,\n",
        "        \"category\": {\n",
        "            \"name\": category,\n",
        "            \"color\": category_colors.get(category.lower(), \"#cccccc\")\n",
        "        },\n",
        "        \"summary\": summary,\n",
        "        \"details\": details\n",
        "    })\n",
        "\n",
        "# Convert to JS format\n",
        "js_code = json.dumps(papers_js, indent=2, ensure_ascii=False)\n",
        "js_code = re.sub(r'\"(\\w+)\":', r'\\1:', js_code)\n",
        "js_code = \"const papers = \" + js_code + \";\"\n",
        "\n",
        "# Save to JS file\n",
        "with open(\"papers.js\", \"w\", encoding=\"utf-8\") as f:\n",
        "    f.write(js_code)\n",
        "\n",
        "print(\"✅ papers.js generated successfully!\")\n",
        "print(js_code[:800])\n",
        "\n"
      ],
      "metadata": {
        "colab": {
          "base_uri": "https://localhost:8080/"
        },
        "id": "wjXkjvWET0xe",
        "outputId": "b1a3c728-0bcd-481e-bca4-c36924758754"
      },
      "execution_count": null,
      "outputs": [
        {
          "output_type": "stream",
          "name": "stdout",
          "text": [
            "✅ papers.js generated successfully!\n",
            "const papers = [\n",
            "  {\n",
            "    title: \"Mice in Bion-M 1 space mission: training and selection\",\n",
            "    category: {\n",
            "      name: \"Neurobiology in Spaceflight\",\n",
            "      color: \"#4db6ac\"\n",
            "    },\n",
            "    summary: \"\",\n",
            "    details: \"📌 **Purpose of the Study**  \\n\\n\\n🧪 **Approach**  \\n\\n\\n🐭 **Research Gaps / Next Steps**  \\n\\n\\n🚀 **Key Findings**  \\n\\n\\n📊 **Scientific Impact**\"\n",
            "  },\n",
            "  {\n",
            "    title: \"Microgravity induces pelvic bone loss through osteoclastic activity, osteocytic osteolysis, and osteoblastic cell cycle inhibition by CDKN1a/p21\",\n",
            "    category: {\n",
            "      name: \"Microgravity & Stem Cells\",\n",
            "      color: \"#aed581\"\n",
            "    },\n",
            "    summary: \"\",\n",
            "    details: \"📌 **Purpose of the Study**  \\n\\n\\n🧪 **Approach**  \\n\\n\\n🐭 **Research Gaps / Next Steps**  \\n\\n\\n🚀 **Key Findings**  \\n\\n\\n📊 **Scientific Impact**\"\n",
            "  },\n",
            "  {\n",
            " \n"
          ]
        }
      ]
    }
  ]
}
